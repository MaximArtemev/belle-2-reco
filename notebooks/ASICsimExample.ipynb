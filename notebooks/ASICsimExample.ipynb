{
 "cells": [
  {
   "cell_type": "code",
   "execution_count": 1,
   "metadata": {},
   "outputs": [
    {
     "name": "stdout",
     "output_type": "stream",
     "text": [
      "Welcome to JupyROOT 6.18/00\n"
     ]
    }
   ],
   "source": [
    "from root_pandas import read_root\n",
    "from glob import glob\n",
    "import pandas as pd"
   ]
  },
  {
   "cell_type": "code",
   "execution_count": 2,
   "metadata": {},
   "outputs": [],
   "source": [
    "from matplotlib.pyplot import *\n",
    "%matplotlib inline\n",
    "from numpy import *\n",
    "from matplotlib.colors import LogNorm\n",
    "from matplotlib.patches import *\n",
    "import matplotlib.pyplot as plt\n",
    "from scipy.optimize import leastsq\n",
    "#import b2plot\n",
    "#style.use('belle2')"
   ]
  },
  {
   "cell_type": "code",
   "execution_count": 3,
   "metadata": {
    "scrolled": true
   },
   "outputs": [],
   "source": [
    "#df = read_root(\"cosmic.0008.03427.root\")\n",
    "\n",
    "#df = read_root(\"b.root\")\n",
    "df  = read_root(\"cosmic.0008.03420_03427_v4.root\",columns=[\"Channel\", \"ADC\", \"Board\", \"Nhit\", \"Asic\"])\n",
    "#dfm = read_root(\"mcmc.root\",columns=[\"Channel\", \"ADC\", \"Board\", \"Nhit\", \"Asic\"]) # no cross talk\n"
   ]
  },
  {
   "cell_type": "code",
   "execution_count": 4,
   "metadata": {},
   "outputs": [],
   "source": [
    "dfm = read_root(\"mcmc.root\",columns=[\"Channel\", \"ADC\", \"Board\", \"Nhit\", \"Asic\",\"Track\"]) # no cross talk\n",
    "dfm2 = read_root(\"mcmc_xtalk.root\",columns=[\"Channel\", \"ADC\", \"Board\", \"Nhit\", \"Asic\",\"Track\"])\n",
    "#dfm2 = read_root(\"mctt.root\",columns=[\"Channel\", \"ADC\", \"Board\", \"Nhit\", \"Asic\",\"Track\"])\n",
    "#mc3.root"
   ]
  },
  {
   "cell_type": "code",
   "execution_count": 5,
   "metadata": {
    "scrolled": true
   },
   "outputs": [
    {
     "data": {
      "image/png": "[encoded data removed]",
      "text/plain": [
       "<Figure size 432x288 with 1 Axes>"
      ]
     },
     "metadata": {
      "needs_background": "light"
     },
     "output_type": "display_data"
    }
   ],
   "source": [
    "xlim(1,8)\n",
    "h = hist(df[df.ADC_ADC_Sig>1000].Nhit,8,(0,8),density=True,label='Data')\n",
    "h = hist(dfm[dfm.ADC_ADC_Sig>1000].Nhit,8,(0,8),density=True,label='MC XTalk Off',histtype='step')\n",
    "h = hist(dfm2[dfm2.ADC_ADC_Sig>1000].Nhit,8,(0,8),density=True,histtype='step',label='MC XTalk ON')\n",
    "xlabel('Nhit per ASIC for ADC>1000')\n",
    "legend()\n",
    "savefig(\"xtalk_test.png\")"
   ]
  }
 ],
 "metadata": {
  "kernelspec": {
   "display_name": "Python 3 (Belle2)",
   "language": "python",
   "name": "python3"
  },
  "language_info": {
   "codemirror_mode": {
    "name": "ipython",
    "version": 3
   },
   "file_extension": ".py",
   "mimetype": "text/x-python",
   "name": "python",
   "nbconvert_exporter": "python",
   "pygments_lexer": "ipython3",
   "version": "3.6.9"
  }
 },
 "nbformat": 4,
 "nbformat_minor": 2
}
