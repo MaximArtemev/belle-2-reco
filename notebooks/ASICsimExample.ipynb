{
 "cells": [
  {
   "cell_type": "code",
   "execution_count": 1,
   "metadata": {},
   "outputs": [
    {
     "ename": "ModuleNotFoundError",
     "evalue": "No module named 'uproot'",
     "output_type": "error",
     "traceback": [
      "\u001b[0;31m---------------------------------------------------------------------------\u001b[0m",
      "\u001b[0;31mModuleNotFoundError\u001b[0m                       Traceback (most recent call last)",
      "\u001b[0;32m<ipython-input-1-c23e15cc8452>\u001b[0m in \u001b[0;36m<module>\u001b[0;34m\u001b[0m\n\u001b[1;32m      1\u001b[0m \u001b[0;32mimport\u001b[0m \u001b[0mpandas\u001b[0m \u001b[0;32mas\u001b[0m \u001b[0mpd\u001b[0m\u001b[0;34m\u001b[0m\u001b[0;34m\u001b[0m\u001b[0m\n\u001b[1;32m      2\u001b[0m \u001b[0;32mimport\u001b[0m \u001b[0mnumpy\u001b[0m \u001b[0;32mas\u001b[0m \u001b[0mnp\u001b[0m\u001b[0;34m\u001b[0m\u001b[0;34m\u001b[0m\u001b[0m\n\u001b[0;32m----> 3\u001b[0;31m \u001b[0;32mimport\u001b[0m \u001b[0muproot\u001b[0m\u001b[0;34m\u001b[0m\u001b[0;34m\u001b[0m\u001b[0m\n\u001b[0m\u001b[1;32m      4\u001b[0m \u001b[0;34m\u001b[0m\u001b[0m\n\u001b[1;32m      5\u001b[0m \u001b[0;32mimport\u001b[0m \u001b[0mmatplotlib\u001b[0m\u001b[0;34m.\u001b[0m\u001b[0mpyplot\u001b[0m \u001b[0;32mas\u001b[0m \u001b[0mplt\u001b[0m\u001b[0;34m\u001b[0m\u001b[0;34m\u001b[0m\u001b[0m\n",
      "\u001b[0;31mModuleNotFoundError\u001b[0m: No module named 'uproot'"
     ]
    }
   ],
   "source": [
    "import pandas as pd\n",
    "import numpy as np\n",
    "import uproot\n",
    "\n",
    "import matplotlib.pyplot as plt\n",
    "%matplotlib inline\n"
   ]
  },
  {
   "cell_type": "code",
   "execution_count": 4,
   "metadata": {},
   "outputs": [],
   "source": [
    "data = uproot.open('../data/raw/cosmic.0008.03420_03427_v4.root')"
   ]
  },
  {
   "cell_type": "code",
   "execution_count": 1,
   "metadata": {},
   "outputs": [
    {
     "name": "stdout",
     "output_type": "stream",
     "text": [
      "Collecting root_numpy\n",
      "  Downloading root_numpy-4.8.0.tar.gz (520 kB)\n",
      "\u001b[K     |################################| 520 kB 4.0 MB/s eta 0:00:01\n",
      "\u001b[?25hBuilding wheels for collected packages: root-numpy\n",
      "  Building wheel for root-numpy (setup.py) ... \u001b[?25ldone\n",
      "\u001b[?25h  Created wheel for root-numpy: filename=root_numpy-4.8.0-cp36-cp36m-linux_x86_64.whl size=1835897 sha256=e8f095fb213d7df4a06003401cfe8e78e521bb221e54db044293de10d9c8be6a\n",
      "  Stored in directory: /home/user/.cache/pip/wheels/53/b5/42/5c98da0d83a1d0c25ed93c449b34b462f8aeb778ad229b4bc4\n",
      "Successfully built root-numpy\n",
      "Installing collected packages: root-numpy\n",
      "Successfully installed root-numpy-4.8.0\n"
     ]
    }
   ],
   "source": [
    "!pip install root_numpy"
   ]
  },
  {
   "cell_type": "code",
   "execution_count": 10,
   "metadata": {},
   "outputs": [
    {
     "name": "stdout",
     "output_type": "stream",
     "text": [
      "ASImage.pcm\t\t\t   libProofBench.so.6.20.04\r\n",
      "ASImageGui.pcm\t\t\t   libProofDraw.so\r\n",
      "Cling_Runtime.pcm\t\t   libProofDraw.so.6.20\r\n",
      "Cling_Runtime_Extra.pcm\t\t   libProofDraw.so.6.20.04\r\n",
      "Core.pcm\t\t\t   libProofPlayer.so\r\n",
      "EG.pcm\t\t\t\t   libProofPlayer.so.6.20\r\n",
      "EGPythia8.pcm\t\t\t   libProofPlayer.so.6.20.04\r\n",
      "Eve.pcm\t\t\t\t   libProofx.so\r\n",
      "FFTW.pcm\t\t\t   libProofx.so.6.20\r\n",
      "FITSIO.pcm\t\t\t   libProofx.so.6.20.04\r\n",
      "FitPanel.pcm\t\t\t   libPyMVA.so\r\n",
      "Foam.pcm\t\t\t   libPyMVA.so.6.20\r\n",
      "Fumili.pcm\t\t\t   libPyMVA.so.6.20.04\r\n",
      "GX11.pcm\t\t\t   libPyROOT.so\r\n",
      "GX11TTF.pcm\t\t\t   libPyROOT.so.6.20\r\n",
      "Gdml.pcm\t\t\t   libPyROOT.so.6.20.04\r\n",
      "Ged.pcm\t\t\t\t   libQuadp.so\r\n",
      "GenVector.pcm\t\t\t   libQuadp.so.6.20\r\n",
      "Genetic.pcm\t\t\t   libQuadp.so.6.20.04\r\n",
      "Geom.pcm\t\t\t   libRCsg.so\r\n",
      "GeomBuilder.pcm\t\t\t   libRCsg.so.6.20\r\n",
      "GeomPainter.pcm\t\t\t   libRCsg.so.6.20.04\r\n",
      "Gpad.pcm\t\t\t   libRDAVIX.so\r\n",
      "Graf.pcm\t\t\t   libRDAVIX.so.6.20\r\n",
      "Graf3d.pcm\t\t\t   libRDAVIX.so.6.20.04\r\n",
      "Gui.pcm\t\t\t\t   libRGL.so\r\n",
      "GuiBld.pcm\t\t\t   libRGL.so.6.20\r\n",
      "GuiHtml.pcm\t\t\t   libRGL.so.6.20.04\r\n",
      "Gviz3d.pcm\t\t\t   libRHTTP.so\r\n",
      "Hbook.pcm\t\t\t   libRHTTP.so.6.20\r\n",
      "Hist.pcm\t\t\t   libRHTTP.so.6.20.04\r\n",
      "HistFactory.pcm\t\t\t   libRHTTPSniff.so\r\n",
      "HistPainter.pcm\t\t\t   libRHTTPSniff.so.6.20\r\n",
      "Html.pcm\t\t\t   libRHTTPSniff.so.6.20.04\r\n",
      "Imt.pcm\t\t\t\t   libRIO.so\r\n",
      "JsMVA\t\t\t\t   libRIO.so.6.20\r\n",
      "JupyROOT\t\t\t   libRIO.so.6.20.04\r\n",
      "MLP.pcm\t\t\t\t   libRMySQL.so\r\n",
      "MathCore.pcm\t\t\t   libRMySQL.so.6.20\r\n",
      "MathMore.pcm\t\t\t   libRMySQL.so.6.20.04\r\n",
      "Matrix.pcm\t\t\t   libROOTDataFrame.so\r\n",
      "Minuit.pcm\t\t\t   libROOTDataFrame.so.6.20\r\n",
      "Minuit2.pcm\t\t\t   libROOTDataFrame.so.6.20.04\r\n",
      "MultiProc.pcm\t\t\t   libROOTVecOps.so\r\n",
      "Net.pcm\t\t\t\t   libROOTVecOps.so.6.20\r\n",
      "Netx.pcm\t\t\t   libROOTVecOps.so.6.20.04\r\n",
      "NetxNG.pcm\t\t\t   libRSQLite.so\r\n",
      "PgSQL.pcm\t\t\t   libRSQLite.so.6.20\r\n",
      "Physics.pcm\t\t\t   libRSQLite.so.6.20.04\r\n",
      "Postscript.pcm\t\t\t   libRecorder.so\r\n",
      "Proof.pcm\t\t\t   libRecorder.so.6.20\r\n",
      "ProofBench.pcm\t\t\t   libRecorder.so.6.20.04\r\n",
      "ProofDraw.pcm\t\t\t   libRint.so\r\n",
      "ProofPlayer.pcm\t\t\t   libRint.so.6.20\r\n",
      "Proofx.pcm\t\t\t   libRint.so.6.20.04\r\n",
      "PyMVA.pcm\t\t\t   libRooFit.so\r\n",
      "PyROOT.pcm\t\t\t   libRooFit.so.6.20\r\n",
      "Quadp.pcm\t\t\t   libRooFit.so.6.20.04\r\n",
      "RCsg.pcm\t\t\t   libRooFitCore.so\r\n",
      "RDAVIX.pcm\t\t\t   libRooFitCore.so.6.20\r\n",
      "RGL.pcm\t\t\t\t   libRooFitCore.so.6.20.04\r\n",
      "RHTTP.pcm\t\t\t   libRooFitMore.so\r\n",
      "RHTTPSniff.pcm\t\t\t   libRooFitMore.so.6.20\r\n",
      "RIO.pcm\t\t\t\t   libRooFitMore.so.6.20.04\r\n",
      "RMySQL.pcm\t\t\t   libRooStats.so\r\n",
      "ROOT.py\t\t\t\t   libRooStats.so.6.20\r\n",
      "ROOT.pyc\t\t\t   libRooStats.so.6.20.04\r\n",
      "ROOT.pyo\t\t\t   libRootAuth.so\r\n",
      "ROOTDataFrame.pcm\t\t   libRootAuth.so.6.20\r\n",
      "ROOTVecOps.pcm\t\t\t   libRootAuth.so.6.20.04\r\n",
      "ROOT_Config.pcm\t\t\t   libSPlot.so\r\n",
      "ROOT_Foundation_C.pcm\t\t   libSPlot.so.6.20\r\n",
      "ROOT_Foundation_Stage1_NoRTTI.pcm  libSPlot.so.6.20.04\r\n",
      "ROOT_Rtypes.pcm\t\t\t   libSQLIO.so\r\n",
      "RSQLite.pcm\t\t\t   libSQLIO.so.6.20\r\n",
      "Recorder.pcm\t\t\t   libSQLIO.so.6.20.04\r\n",
      "Rint.pcm\t\t\t   libSessionViewer.so\r\n",
      "RooFit.pcm\t\t\t   libSessionViewer.so.6.20\r\n",
      "RooFitCore.pcm\t\t\t   libSessionViewer.so.6.20.04\r\n",
      "RooFitMore.pcm\t\t\t   libSmatrix.so\r\n",
      "RooStats.pcm\t\t\t   libSmatrix.so.6.20\r\n",
      "RootAuth.pcm\t\t\t   libSmatrix.so.6.20.04\r\n",
      "SPlot.pcm\t\t\t   libSmatrix32.rootmap\r\n",
      "SQLIO.pcm\t\t\t   libSpectrum.so\r\n",
      "SessionViewer.pcm\t\t   libSpectrum.so.6.20\r\n",
      "Smatrix.pcm\t\t\t   libSpectrum.so.6.20.04\r\n",
      "Spectrum.pcm\t\t\t   libSpectrumPainter.so\r\n",
      "SpectrumPainter.pcm\t\t   libSpectrumPainter.so.6.20\r\n",
      "TMVA.pcm\t\t\t   libSpectrumPainter.so.6.20.04\r\n",
      "TMVAGui.pcm\t\t\t   libSrvAuth.so\r\n",
      "Thread.pcm\t\t\t   libSrvAuth.so.6.20\r\n",
      "Tree.pcm\t\t\t   libSrvAuth.so.6.20.04\r\n",
      "TreePlayer.pcm\t\t\t   libTMVA.so\r\n",
      "TreeViewer.pcm\t\t\t   libTMVA.so.6.20\r\n",
      "Unfold.pcm\t\t\t   libTMVA.so.6.20.04\r\n",
      "Unuran.pcm\t\t\t   libTMVAGui.so\r\n",
      "VMC.pcm\t\t\t\t   libTMVAGui.so.6.20\r\n",
      "X3d.pcm\t\t\t\t   libTMVAGui.so.6.20.04\r\n",
      "XMLIO.pcm\t\t\t   libThread.so\r\n",
      "XMLParser.pcm\t\t\t   libThread.so.6.20\r\n",
      "_Builtin_intrinsics.pcm\t\t   libThread.so.6.20.04\r\n",
      "_Builtin_stddef_max_align_t.pcm    libTree.so\r\n",
      "_pythonization.py\t\t   libTree.so.6.20\r\n",
      "_pythonization.pyc\t\t   libTree.so.6.20.04\r\n",
      "_pythonization.pyo\t\t   libTreePlayer.so\r\n",
      "_rdf_utils.py\t\t\t   libTreePlayer.so.6.20\r\n",
      "_rdf_utils.pyc\t\t\t   libTreePlayer.so.6.20.04\r\n",
      "_rdf_utils.pyo\t\t\t   libTreeViewer.so\r\n",
      "cmake\t\t\t\t   libTreeViewer.so.6.20\r\n",
      "cmdLineUtils.py\t\t\t   libTreeViewer.so.6.20.04\r\n",
      "cmdLineUtils.pyc\t\t   libUnfold.so\r\n",
      "cmdLineUtils.pyo\t\t   libUnfold.so.6.20\r\n",
      "cppyy.py\t\t\t   libUnfold.so.6.20.04\r\n",
      "cppyy.pyc\t\t\t   libUnuran.so\r\n",
      "cppyy.pyo\t\t\t   libUnuran.so.6.20\r\n",
      "libASImage.so\t\t\t   libUnuran.so.6.20.04\r\n",
      "libASImage.so.6.20\t\t   libVMC.so\r\n",
      "libASImage.so.6.20.04\t\t   libVMC.so.6.20\r\n",
      "libASImageGui.so\t\t   libVMC.so.6.20.04\r\n",
      "libASImageGui.so.6.20\t\t   libVc.a\r\n",
      "libASImageGui.so.6.20.04\t   libX3d.so\r\n",
      "libCling.so\t\t\t   libX3d.so.6.20\r\n",
      "libCling.so.6.20\t\t   libX3d.so.6.20.04\r\n",
      "libCling.so.6.20.04\t\t   libXMLIO.so\r\n",
      "libCore.so\t\t\t   libXMLIO.so.6.20\r\n",
      "libCore.so.6.20\t\t\t   libXMLIO.so.6.20.04\r\n",
      "libCore.so.6.20.04\t\t   libXMLParser.so\r\n",
      "libEG.so\t\t\t   libXMLParser.so.6.20\r\n",
      "libEG.so.6.20\t\t\t   libXMLParser.so.6.20.04\r\n",
      "libEG.so.6.20.04\t\t   libXrdAppUtils.so\r\n",
      "libEGPythia8.so\t\t\t   libXrdAppUtils.so.1\r\n",
      "libEGPythia8.so.6.20\t\t   libXrdAppUtils.so.1.0.0\r\n",
      "libEGPythia8.so.6.20.04\t\t   libXrdBlacklistDecision-4.so\r\n",
      "libEve.so\t\t\t   libXrdBwm-4.so\r\n",
      "libEve.so.6.20\t\t\t   libXrdCksCalczcrc32-4.so\r\n",
      "libEve.so.6.20.04\t\t   libXrdCl.so\r\n",
      "libFFTW.so\t\t\t   libXrdCl.so.2\r\n",
      "libFFTW.so.6.20\t\t\t   libXrdCl.so.2.0.0\r\n",
      "libFFTW.so.6.20.04\t\t   libXrdClProxyPlugin-4.so\r\n",
      "libFITSIO.so\t\t\t   libXrdClient.so\r\n",
      "libFITSIO.so.6.20\t\t   libXrdClient.so.2\r\n",
      "libFITSIO.so.6.20.04\t\t   libXrdClient.so.2.0.0\r\n",
      "libFTGL.so\t\t\t   libXrdCrypto.so\r\n",
      "libFTGL.so.6.20\t\t\t   libXrdCrypto.so.1\r\n",
      "libFTGL.so.6.20.04\t\t   libXrdCrypto.so.1.0.0\r\n",
      "libFitPanel.so\t\t\t   libXrdCryptoLite.so\r\n",
      "libFitPanel.so.6.20\t\t   libXrdCryptoLite.so.1\r\n",
      "libFitPanel.so.6.20.04\t\t   libXrdCryptoLite.so.1.0.0\r\n",
      "libFoam.so\t\t\t   libXrdCryptossl-4.so\r\n",
      "libFoam.so.6.20\t\t\t   libXrdFfs.so\r\n",
      "libFoam.so.6.20.04\t\t   libXrdFfs.so.2\r\n",
      "libFumili.so\t\t\t   libXrdFfs.so.2.0.0\r\n",
      "libFumili.so.6.20\t\t   libXrdFileCache-4.so\r\n",
      "libFumili.so.6.20.04\t\t   libXrdHttp-4.so\r\n",
      "libGLEW.so\t\t\t   libXrdHttpTPC-4.so\r\n",
      "libGLEW.so.6.20\t\t\t   libXrdHttpUtils.so\r\n",
      "libGLEW.so.6.20.04\t\t   libXrdHttpUtils.so.1\r\n",
      "libGX11.so\t\t\t   libXrdHttpUtils.so.1.0.0\r\n",
      "libGX11.so.6.20\t\t\t   libXrdN2No2p-4.so\r\n",
      "libGX11.so.6.20.04\t\t   libXrdOssSIgpfsT-4.so\r\n",
      "libGX11TTF.so\t\t\t   libXrdPosix.so\r\n",
      "libGX11TTF.so.6.20\t\t   libXrdPosix.so.2\r\n",
      "libGX11TTF.so.6.20.04\t\t   libXrdPosix.so.2.0.0\r\n",
      "libGdml.so\t\t\t   libXrdPosixPreload.so\r\n",
      "libGdml.so.6.20\t\t\t   libXrdPosixPreload.so.1\r\n",
      "libGdml.so.6.20.04\t\t   libXrdPosixPreload.so.1.0.0\r\n",
      "libGed.so\t\t\t   libXrdProofd.so\r\n",
      "libGed.so.6.20\t\t\t   libXrdProofd.so.6.20\r\n",
      "libGed.so.6.20.04\t\t   libXrdProofd.so.6.20.04\r\n",
      "libGenVector.so\t\t\t   libXrdPss-4.so\r\n",
      "libGenVector.so.6.20\t\t   libXrdSec-4.so\r\n",
      "libGenVector.so.6.20.04\t\t   libXrdSecProt-4.so\r\n",
      "libGenVector32.rootmap\t\t   libXrdSecgsi-4.so\r\n",
      "libGenetic.so\t\t\t   libXrdSecgsiAUTHZVO-4.so\r\n",
      "libGenetic.so.6.20\t\t   libXrdSecgsiGMAPDN-4.so\r\n",
      "libGenetic.so.6.20.04\t\t   libXrdSeckrb5-4.so\r\n",
      "libGeom.so\t\t\t   libXrdSecpwd-4.so\r\n",
      "libGeom.so.6.20\t\t\t   libXrdSecsss-4.so\r\n",
      "libGeom.so.6.20.04\t\t   libXrdSecunix-4.so\r\n",
      "libGeomBuilder.so\t\t   libXrdServer.so\r\n",
      "libGeomBuilder.so.6.20\t\t   libXrdServer.so.2\r\n",
      "libGeomBuilder.so.6.20.04\t   libXrdServer.so.2.0.0\r\n",
      "libGeomPainter.so\t\t   libXrdSsi-4.so\r\n",
      "libGeomPainter.so.6.20\t\t   libXrdSsiLib.so\r\n",
      "libGeomPainter.so.6.20.04\t   libXrdSsiLib.so.1\r\n",
      "libGpad.so\t\t\t   libXrdSsiLib.so.1.0.0\r\n",
      "libGpad.so.6.20\t\t\t   libXrdSsiLog-4.so\r\n",
      "libGpad.so.6.20.04\t\t   libXrdSsiShMap.so\r\n",
      "libGraf.so\t\t\t   libXrdSsiShMap.so.1\r\n",
      "libGraf.so.6.20\t\t\t   libXrdSsiShMap.so.1.0.0\r\n",
      "libGraf.so.6.20.04\t\t   libXrdThrottle-4.so\r\n",
      "libGraf3d.so\t\t\t   libXrdUtils.so\r\n",
      "libGraf3d.so.6.20\t\t   libXrdUtils.so.2\r\n",
      "libGraf3d.so.6.20.04\t\t   libXrdUtils.so.2.0.0\r\n",
      "libGui.so\t\t\t   libXrdXml.so\r\n",
      "libGui.so.6.20\t\t\t   libXrdXml.so.2\r\n",
      "libGui.so.6.20.04\t\t   libXrdXml.so.2.0.0\r\n",
      "libGuiBld.so\t\t\t   libXrdXrootd-4.so\r\n",
      "libGuiBld.so.6.20\t\t   libc.pcm\r\n",
      "libGuiBld.so.6.20.04\t\t   libcomplexDict.rootmap\r\n",
      "libGuiHtml.so\t\t\t   libcomplexDict.so\r\n",
      "libGuiHtml.so.6.20\t\t   libcomplexDict.so.6.20\r\n",
      "libGuiHtml.so.6.20.04\t\t   libcomplexDict.so.6.20.04\r\n",
      "libGviz3d.so\t\t\t   libdequeDict.rootmap\r\n",
      "libGviz3d.so.6.20\t\t   libdequeDict.so\r\n",
      "libGviz3d.so.6.20.04\t\t   libdequeDict.so.6.20\r\n",
      "libHbook.so\t\t\t   libdequeDict.so.6.20.04\r\n",
      "libHbook.so.6.20\t\t   libforward_listDict.rootmap\r\n",
      "libHbook.so.6.20.04\t\t   libforward_listDict.so\r\n",
      "libHist.so\t\t\t   libforward_listDict.so.6.20\r\n",
      "libHist.so.6.20\t\t\t   libforward_listDict.so.6.20.04\r\n",
      "libHist.so.6.20.04\t\t   liblistDict.rootmap\r\n",
      "libHistFactory.so\t\t   liblistDict.so\r\n",
      "libHistFactory.so.6.20\t\t   liblistDict.so.6.20\r\n",
      "libHistFactory.so.6.20.04\t   liblistDict.so.6.20.04\r\n",
      "libHistPainter.so\t\t   libmap2Dict.rootmap\r\n",
      "libHistPainter.so.6.20\t\t   libmap2Dict.so\r\n",
      "libHistPainter.so.6.20.04\t   libmap2Dict.so.6.20\r\n",
      "libHtml.so\t\t\t   libmap2Dict.so.6.20.04\r\n",
      "libHtml.so.6.20\t\t\t   libmapDict.rootmap\r\n",
      "libHtml.so.6.20.04\t\t   libmapDict.so\r\n",
      "libImt.so\t\t\t   libmapDict.so.6.20\r\n",
      "libImt.so.6.20\t\t\t   libmapDict.so.6.20.04\r\n",
      "libImt.so.6.20.04\t\t   libminicern.a\r\n",
      "libJupyROOT.so\t\t\t   libmultimap2Dict.rootmap\r\n",
      "libJupyROOT.so.6.20\t\t   libmultimap2Dict.so\r\n",
      "libJupyROOT.so.6.20.04\t\t   libmultimap2Dict.so.6.20\r\n",
      "libMLP.so\t\t\t   libmultimap2Dict.so.6.20.04\r\n",
      "libMLP.so.6.20\t\t\t   libmultimapDict.rootmap\r\n",
      "libMLP.so.6.20.04\t\t   libmultimapDict.so\r\n",
      "libMathCore.so\t\t\t   libmultimapDict.so.6.20\r\n",
      "libMathCore.so.6.20\t\t   libmultimapDict.so.6.20.04\r\n",
      "libMathCore.so.6.20.04\t\t   libmultisetDict.rootmap\r\n",
      "libMathMore.so\t\t\t   libmultisetDict.so\r\n",
      "libMathMore.so.6.20\t\t   libmultisetDict.so.6.20\r\n",
      "libMathMore.so.6.20.04\t\t   libmultisetDict.so.6.20.04\r\n",
      "libMatrix.so\t\t\t   libsetDict.rootmap\r\n",
      "libMatrix.so.6.20\t\t   libsetDict.so\r\n",
      "libMatrix.so.6.20.04\t\t   libsetDict.so.6.20\r\n",
      "libMinuit.so\t\t\t   libsetDict.so.6.20.04\r\n",
      "libMinuit.so.6.20\t\t   libtbb.so\r\n",
      "libMinuit.so.6.20.04\t\t   libtbb.so.2\r\n",
      "libMinuit2.so\t\t\t   libtbbmalloc.so\r\n",
      "libMinuit2.so.6.20\t\t   libtbbmalloc.so.2\r\n",
      "libMinuit2.so.6.20.04\t\t   libtbbmalloc_proxy.so\r\n",
      "libMultiProc.so\t\t\t   libtbbmalloc_proxy.so.2\r\n",
      "libMultiProc.so.6.20\t\t   libunordered_mapDict.rootmap\r\n",
      "libMultiProc.so.6.20.04\t\t   libunordered_mapDict.so\r\n",
      "libNet.so\t\t\t   libunordered_mapDict.so.6.20\r\n",
      "libNet.so.6.20\t\t\t   libunordered_mapDict.so.6.20.04\r\n",
      "libNet.so.6.20.04\t\t   libunordered_multimapDict.rootmap\r\n",
      "libNetx.so\t\t\t   libunordered_multimapDict.so\r\n",
      "libNetx.so.6.20\t\t\t   libunordered_multimapDict.so.6.20\r\n",
      "libNetx.so.6.20.04\t\t   libunordered_multimapDict.so.6.20.04\r\n",
      "libNetxNG.so\t\t\t   libunordered_multisetDict.rootmap\r\n",
      "libNetxNG.so.6.20\t\t   libunordered_multisetDict.so\r\n",
      "libNetxNG.so.6.20.04\t\t   libunordered_multisetDict.so.6.20\r\n",
      "libNew.so\t\t\t   libunordered_multisetDict.so.6.20.04\r\n",
      "libNew.so.6.20\t\t\t   libunordered_setDict.rootmap\r\n",
      "libNew.so.6.20.04\t\t   libunordered_setDict.so\r\n",
      "libPgSQL.so\t\t\t   libunordered_setDict.so.6.20\r\n",
      "libPgSQL.so.6.20\t\t   libunordered_setDict.so.6.20.04\r\n",
      "libPgSQL.so.6.20.04\t\t   libvalarrayDict.rootmap\r\n",
      "libPhysics.so\t\t\t   libvalarrayDict.so\r\n",
      "libPhysics.so.6.20\t\t   libvalarrayDict.so.6.20\r\n",
      "libPhysics.so.6.20.04\t\t   libvalarrayDict.so.6.20.04\r\n",
      "libPostscript.so\t\t   libvdt.so\r\n",
      "libPostscript.so.6.20\t\t   libvectorDict.rootmap\r\n",
      "libPostscript.so.6.20.04\t   libvectorDict.so\r\n",
      "libProof.so\t\t\t   libvectorDict.so.6.20\r\n",
      "libProof.so.6.20\t\t   libvectorDict.so.6.20.04\r\n",
      "libProof.so.6.20.04\t\t   pkgconfig\r\n",
      "libProofBench.so\t\t   std.pcm\r\n",
      "libProofBench.so.6.20\t\t   xlocale.h.pcm\r\n"
     ]
    }
   ],
   "source": [
    "!ls /home/user/root/lib/"
   ]
  },
  {
   "cell_type": "code",
   "execution_count": null,
   "metadata": {},
   "outputs": [],
   "source": [
    "$ sudo ln -s /opt/local/lib/root/libPyROOT.so /opt/local/Library/Frameworks/Python.framework/Versions/2.7/lib/python2.7\n"
   ]
  },
  {
   "cell_type": "code",
   "execution_count": 1,
   "metadata": {},
   "outputs": [
    {
     "ename": "ImportError",
     "evalue": "dynamic module does not define module export function (PyInit_libPyROOT)",
     "output_type": "error",
     "traceback": [
      "\u001b[0;31m---------------------------------------------------------------------------\u001b[0m",
      "\u001b[0;31mImportError\u001b[0m                               Traceback (most recent call last)",
      "\u001b[0;32m<ipython-input-1-4da430af608d>\u001b[0m in \u001b[0;36m<module>\u001b[0;34m\u001b[0m\n\u001b[1;32m      2\u001b[0m \u001b[0msys\u001b[0m\u001b[0;34m.\u001b[0m\u001b[0mpath\u001b[0m\u001b[0;34m.\u001b[0m\u001b[0mappend\u001b[0m\u001b[0;34m(\u001b[0m\u001b[0;34m'/home/user/root/lib/'\u001b[0m\u001b[0;34m)\u001b[0m\u001b[0;34m\u001b[0m\u001b[0;34m\u001b[0m\u001b[0m\n\u001b[1;32m      3\u001b[0m \u001b[0;34m\u001b[0m\u001b[0m\n\u001b[0;32m----> 4\u001b[0;31m \u001b[0;32mimport\u001b[0m \u001b[0mroot_numpy\u001b[0m\u001b[0;34m\u001b[0m\u001b[0;34m\u001b[0m\u001b[0m\n\u001b[0m",
      "\u001b[0;32m~/miniconda/envs/py36/lib/python3.6/site-packages/root_numpy/__init__.py\u001b[0m in \u001b[0;36m<module>\u001b[0;34m\u001b[0m\n\u001b[1;32m     19\u001b[0m \u001b[0;32mfrom\u001b[0m \u001b[0;34m.\u001b[0m\u001b[0msetup_utils\u001b[0m \u001b[0;32mimport\u001b[0m \u001b[0mroot_version_active\u001b[0m\u001b[0;34m,\u001b[0m \u001b[0mget_config\u001b[0m\u001b[0;34m\u001b[0m\u001b[0;34m\u001b[0m\u001b[0m\n\u001b[1;32m     20\u001b[0m \u001b[0;34m\u001b[0m\u001b[0m\n\u001b[0;32m---> 21\u001b[0;31m \u001b[0mROOT_VERSION\u001b[0m \u001b[0;34m=\u001b[0m \u001b[0mroot_version_active\u001b[0m\u001b[0;34m(\u001b[0m\u001b[0;34m)\u001b[0m\u001b[0;34m\u001b[0m\u001b[0;34m\u001b[0m\u001b[0m\n\u001b[0m\u001b[1;32m     22\u001b[0m \u001b[0mconfig\u001b[0m \u001b[0;34m=\u001b[0m \u001b[0mget_config\u001b[0m\u001b[0;34m(\u001b[0m\u001b[0;34m)\u001b[0m\u001b[0;34m\u001b[0m\u001b[0;34m\u001b[0m\u001b[0m\n\u001b[1;32m     23\u001b[0m \u001b[0;34m\u001b[0m\u001b[0m\n",
      "\u001b[0;32m~/miniconda/envs/py36/lib/python3.6/site-packages/root_numpy/setup_utils.py\u001b[0m in \u001b[0;36mroot_version_active\u001b[0;34m()\u001b[0m\n\u001b[1;32m    109\u001b[0m \u001b[0;34m\u001b[0m\u001b[0m\n\u001b[1;32m    110\u001b[0m \u001b[0;32mdef\u001b[0m \u001b[0mroot_version_active\u001b[0m\u001b[0;34m(\u001b[0m\u001b[0;34m)\u001b[0m\u001b[0;34m:\u001b[0m\u001b[0;34m\u001b[0m\u001b[0;34m\u001b[0m\u001b[0m\n\u001b[0;32m--> 111\u001b[0;31m     \u001b[0;32mimport\u001b[0m \u001b[0mROOT\u001b[0m\u001b[0;34m\u001b[0m\u001b[0;34m\u001b[0m\u001b[0m\n\u001b[0m\u001b[1;32m    112\u001b[0m     \u001b[0;32mreturn\u001b[0m \u001b[0mROOTVersion\u001b[0m\u001b[0;34m(\u001b[0m\u001b[0mROOT\u001b[0m\u001b[0;34m.\u001b[0m\u001b[0mgROOT\u001b[0m\u001b[0;34m.\u001b[0m\u001b[0mGetVersionInt\u001b[0m\u001b[0;34m(\u001b[0m\u001b[0;34m)\u001b[0m\u001b[0;34m)\u001b[0m\u001b[0;34m\u001b[0m\u001b[0;34m\u001b[0m\u001b[0m\n\u001b[1;32m    113\u001b[0m \u001b[0;34m\u001b[0m\u001b[0m\n",
      "\u001b[0;32m~/root/bindings/pyroot/ROOT.py\u001b[0m in \u001b[0;36m<module>\u001b[0;34m\u001b[0m\n\u001b[1;32m     22\u001b[0m \u001b[0;31m### system and interpreter setup ------------------------------------------------\u001b[0m\u001b[0;34m\u001b[0m\u001b[0;34m\u001b[0m\u001b[0;34m\u001b[0m\u001b[0m\n\u001b[1;32m     23\u001b[0m \u001b[0;32mimport\u001b[0m \u001b[0mos\u001b[0m\u001b[0;34m,\u001b[0m \u001b[0msys\u001b[0m\u001b[0;34m,\u001b[0m \u001b[0mtypes\u001b[0m\u001b[0;34m\u001b[0m\u001b[0;34m\u001b[0m\u001b[0m\n\u001b[0;32m---> 24\u001b[0;31m \u001b[0;32mimport\u001b[0m \u001b[0mcppyy\u001b[0m\u001b[0;34m\u001b[0m\u001b[0;34m\u001b[0m\u001b[0m\n\u001b[0m\u001b[1;32m     25\u001b[0m \u001b[0;34m\u001b[0m\u001b[0m\n\u001b[1;32m     26\u001b[0m \u001b[0;31m## there's no version_info in 1.5.2\u001b[0m\u001b[0;34m\u001b[0m\u001b[0;34m\u001b[0m\u001b[0;34m\u001b[0m\u001b[0m\n",
      "\u001b[0;32m~/root/bindings/pyroot/cppyy.py\u001b[0m in \u001b[0;36m<module>\u001b[0;34m\u001b[0m\n\u001b[1;32m     59\u001b[0m       \u001b[0msys\u001b[0m\u001b[0;34m.\u001b[0m\u001b[0msetdlopenflags\u001b[0m\u001b[0;34m(\u001b[0m \u001b[0;36m0x100\u001b[0m \u001b[0;34m|\u001b[0m \u001b[0;36m0x2\u001b[0m \u001b[0;34m)\u001b[0m    \u001b[0;31m# RTLD_GLOBAL | RTLD_NOW\u001b[0m\u001b[0;34m\u001b[0m\u001b[0;34m\u001b[0m\u001b[0m\n\u001b[1;32m     60\u001b[0m \u001b[0;34m\u001b[0m\u001b[0m\n\u001b[0;32m---> 61\u001b[0;31m    \u001b[0;32mimport\u001b[0m \u001b[0mlibPyROOT\u001b[0m \u001b[0;32mas\u001b[0m \u001b[0m_backend\u001b[0m\u001b[0;34m\u001b[0m\u001b[0;34m\u001b[0m\u001b[0m\n\u001b[0m\u001b[1;32m     62\u001b[0m \u001b[0;34m\u001b[0m\u001b[0m\n\u001b[1;32m     63\u001b[0m    \u001b[0;31m# reset dl flags if needed\u001b[0m\u001b[0;34m\u001b[0m\u001b[0;34m\u001b[0m\u001b[0;34m\u001b[0m\u001b[0m\n",
      "\u001b[0;31mImportError\u001b[0m: dynamic module does not define module export function (PyInit_libPyROOT)"
     ]
    }
   ],
   "source": [
    "import sys\n",
    "sys.path.append('/home/user/root/lib/')\n",
    "\n",
    "import root_numpy"
   ]
  },
  {
   "cell_type": "code",
   "execution_count": null,
   "metadata": {},
   "outputs": [],
   "source": []
  },
  {
   "cell_type": "code",
   "execution_count": null,
   "metadata": {},
   "outputs": [],
   "source": []
  },
  {
   "cell_type": "code",
   "execution_count": 3,
   "metadata": {},
   "outputs": [
    {
     "name": "stdout",
     "output_type": "stream",
     "text": [
      "Collecting package metadata (current_repodata.json): done\n",
      "Solving environment: failed with initial frozen solve. Retrying with flexible solve.\n",
      "Solving environment: failed with repodata from current_repodata.json, will retry with next repodata source.\n",
      "Collecting package metadata (repodata.json): done\n",
      "Solving environment: / ^C\n",
      "\\ "
     ]
    }
   ],
   "source": [
    "!conda install -c conda-forge root_numpy -y"
   ]
  },
  {
   "cell_type": "code",
   "execution_count": 2,
   "metadata": {},
   "outputs": [
    {
     "name": "stdout",
     "output_type": "stream",
     "text": [
      "Collecting root_pandas\n",
      "  Downloading root_pandas-0.7.0.tar.gz (9.7 kB)\n",
      "Requirement already satisfied: numpy in /home/user/miniconda/envs/py36/lib/python3.6/site-packages (from root_pandas) (1.18.1)\n",
      "Requirement already satisfied: pandas>=0.18.0 in /home/user/miniconda/envs/py36/lib/python3.6/site-packages (from root_pandas) (1.0.3)\n",
      "Requirement already satisfied: root_numpy in /home/user/miniconda/envs/py36/lib/python3.6/site-packages (from root_pandas) (4.8.0)\n",
      "Requirement already satisfied: pytz>=2017.2 in /home/user/miniconda/envs/py36/lib/python3.6/site-packages (from pandas>=0.18.0->root_pandas) (2019.3)\n",
      "Requirement already satisfied: python-dateutil>=2.6.1 in /home/user/miniconda/envs/py36/lib/python3.6/site-packages (from pandas>=0.18.0->root_pandas) (2.8.1)\n",
      "Requirement already satisfied: six>=1.5 in /home/user/miniconda/envs/py36/lib/python3.6/site-packages (from python-dateutil>=2.6.1->pandas>=0.18.0->root_pandas) (1.14.0)\n",
      "Building wheels for collected packages: root-pandas\n",
      "  Building wheel for root-pandas (setup.py) ... \u001b[?25ldone\n",
      "\u001b[?25h  Created wheel for root-pandas: filename=root_pandas-0.7.0-py3-none-any.whl size=8804 sha256=319e799cacb83d78d588c3a5477b09e12adb802f162711e6ec244b322bae0720\n",
      "  Stored in directory: /home/user/.cache/pip/wheels/d9/c6/2f/ac7ab151b63bc97533ddceb8dfc15d3a492a71ea778adc36cd\n",
      "Successfully built root-pandas\n",
      "Installing collected packages: root-pandas\n",
      "Successfully installed root-pandas-0.7.0\n"
     ]
    }
   ],
   "source": [
    "!pip install root_pandas"
   ]
  },
  {
   "cell_type": "code",
   "execution_count": 3,
   "metadata": {},
   "outputs": [
    {
     "ename": "ModuleNotFoundError",
     "evalue": "No module named 'root_numpy'",
     "output_type": "error",
     "traceback": [
      "\u001b[0;31m---------------------------------------------------------------------------\u001b[0m",
      "\u001b[0;31mModuleNotFoundError\u001b[0m                       Traceback (most recent call last)",
      "\u001b[0;32m<ipython-input-3-bbd80c171183>\u001b[0m in \u001b[0;36m<module>\u001b[0;34m\u001b[0m\n\u001b[0;32m----> 1\u001b[0;31m \u001b[0;32mimport\u001b[0m \u001b[0mroot_numpy\u001b[0m\u001b[0;34m\u001b[0m\u001b[0;34m\u001b[0m\u001b[0m\n\u001b[0m",
      "\u001b[0;31mModuleNotFoundError\u001b[0m: No module named 'root_numpy'"
     ]
    }
   ],
   "source": [
    "import root_numpy"
   ]
  },
  {
   "cell_type": "code",
   "execution_count": 7,
   "metadata": {},
   "outputs": [
    {
     "name": "stdout",
     "output_type": "stream",
     "text": [
      "CMakeLists.txt\tJupyROOT  _pythonization.py  cppyy.py  inc  test\r\n",
      "JsMVA\t\tROOT.py   _rdf_utils.py      doc       src\r\n"
     ]
    }
   ],
   "source": [
    "!ls $HOME/root/bindings/pyroot/"
   ]
  },
  {
   "cell_type": "code",
   "execution_count": 5,
   "metadata": {},
   "outputs": [
    {
     "ename": "ModuleNotFoundError",
     "evalue": "No module named 'libPyROOT'",
     "output_type": "error",
     "traceback": [
      "\u001b[0;31m---------------------------------------------------------------------------\u001b[0m",
      "\u001b[0;31mModuleNotFoundError\u001b[0m                       Traceback (most recent call last)",
      "\u001b[0;32m<ipython-input-5-fc0322f52b59>\u001b[0m in \u001b[0;36m<module>\u001b[0;34m\u001b[0m\n\u001b[0;32m----> 1\u001b[0;31m \u001b[0;32mimport\u001b[0m \u001b[0mlibPyROOT\u001b[0m\u001b[0;34m\u001b[0m\u001b[0;34m\u001b[0m\u001b[0m\n\u001b[0m",
      "\u001b[0;31mModuleNotFoundError\u001b[0m: No module named 'libPyROOT'"
     ]
    }
   ],
   "source": [
    "import libPyROOT"
   ]
  },
  {
   "cell_type": "code",
   "execution_count": 3,
   "metadata": {},
   "outputs": [
    {
     "ename": "ModuleNotFoundError",
     "evalue": "No module named 'ROOT'",
     "output_type": "error",
     "traceback": [
      "\u001b[0;31m---------------------------------------------------------------------------\u001b[0m",
      "\u001b[0;31mModuleNotFoundError\u001b[0m                       Traceback (most recent call last)",
      "\u001b[0;32m<ipython-input-3-e0bf04b95edc>\u001b[0m in \u001b[0;36m<module>\u001b[0;34m\u001b[0m\n\u001b[0;32m----> 1\u001b[0;31m \u001b[0;32mfrom\u001b[0m \u001b[0mroot_pandas\u001b[0m \u001b[0;32mimport\u001b[0m \u001b[0mread_root\u001b[0m\u001b[0;34m\u001b[0m\u001b[0;34m\u001b[0m\u001b[0m\n\u001b[0m\u001b[1;32m      2\u001b[0m \u001b[0;32mfrom\u001b[0m \u001b[0mglob\u001b[0m \u001b[0;32mimport\u001b[0m \u001b[0mglob\u001b[0m\u001b[0;34m\u001b[0m\u001b[0;34m\u001b[0m\u001b[0m\n\u001b[1;32m      3\u001b[0m \u001b[0;32mimport\u001b[0m \u001b[0mpandas\u001b[0m \u001b[0;32mas\u001b[0m \u001b[0mpd\u001b[0m\u001b[0;34m\u001b[0m\u001b[0;34m\u001b[0m\u001b[0m\n\u001b[1;32m      4\u001b[0m \u001b[0;32mfrom\u001b[0m \u001b[0mmatplotlib\u001b[0m\u001b[0;34m.\u001b[0m\u001b[0mpyplot\u001b[0m \u001b[0;32mimport\u001b[0m \u001b[0;34m*\u001b[0m\u001b[0;34m\u001b[0m\u001b[0;34m\u001b[0m\u001b[0m\n\u001b[1;32m      5\u001b[0m \u001b[0mget_ipython\u001b[0m\u001b[0;34m(\u001b[0m\u001b[0;34m)\u001b[0m\u001b[0;34m.\u001b[0m\u001b[0mrun_line_magic\u001b[0m\u001b[0;34m(\u001b[0m\u001b[0;34m'matplotlib'\u001b[0m\u001b[0;34m,\u001b[0m \u001b[0;34m'inline'\u001b[0m\u001b[0;34m)\u001b[0m\u001b[0;34m\u001b[0m\u001b[0;34m\u001b[0m\u001b[0m\n",
      "\u001b[0;32m~/miniconda/envs/py36/lib/python3.6/site-packages/root_pandas/__init__.py\u001b[0m in \u001b[0;36m<module>\u001b[0;34m\u001b[0m\n\u001b[0;32m----> 1\u001b[0;31m \u001b[0;32mfrom\u001b[0m \u001b[0;34m.\u001b[0m\u001b[0mreadwrite\u001b[0m \u001b[0;32mimport\u001b[0m \u001b[0mread_root\u001b[0m\u001b[0;34m\u001b[0m\u001b[0;34m\u001b[0m\u001b[0m\n\u001b[0m\u001b[1;32m      2\u001b[0m \u001b[0;32mfrom\u001b[0m \u001b[0;34m.\u001b[0m\u001b[0mreadwrite\u001b[0m \u001b[0;32mimport\u001b[0m \u001b[0mto_root\u001b[0m\u001b[0;34m\u001b[0m\u001b[0;34m\u001b[0m\u001b[0m\n\u001b[1;32m      3\u001b[0m \u001b[0;32mfrom\u001b[0m \u001b[0;34m.\u001b[0m\u001b[0mversion\u001b[0m \u001b[0;32mimport\u001b[0m \u001b[0m__version__\u001b[0m\u001b[0;34m\u001b[0m\u001b[0;34m\u001b[0m\u001b[0m\n\u001b[1;32m      4\u001b[0m \u001b[0;34m\u001b[0m\u001b[0m\n\u001b[1;32m      5\u001b[0m __all__ = [\n",
      "\u001b[0;32m~/miniconda/envs/py36/lib/python3.6/site-packages/root_pandas/readwrite.py\u001b[0m in \u001b[0;36m<module>\u001b[0;34m\u001b[0m\n\u001b[1;32m      9\u001b[0m \u001b[0;32mfrom\u001b[0m \u001b[0mpandas\u001b[0m \u001b[0;32mimport\u001b[0m \u001b[0mDataFrame\u001b[0m\u001b[0;34m,\u001b[0m \u001b[0mRangeIndex\u001b[0m\u001b[0;34m\u001b[0m\u001b[0;34m\u001b[0m\u001b[0m\n\u001b[1;32m     10\u001b[0m \u001b[0;32mimport\u001b[0m \u001b[0mpandas\u001b[0m \u001b[0;32mas\u001b[0m \u001b[0mpd\u001b[0m\u001b[0;34m\u001b[0m\u001b[0;34m\u001b[0m\u001b[0m\n\u001b[0;32m---> 11\u001b[0;31m \u001b[0;32mfrom\u001b[0m \u001b[0mroot_numpy\u001b[0m \u001b[0;32mimport\u001b[0m \u001b[0mroot2array\u001b[0m\u001b[0;34m,\u001b[0m \u001b[0mlist_trees\u001b[0m\u001b[0;34m\u001b[0m\u001b[0;34m\u001b[0m\u001b[0m\n\u001b[0m\u001b[1;32m     12\u001b[0m \u001b[0;32mimport\u001b[0m \u001b[0mfnmatch\u001b[0m\u001b[0;34m\u001b[0m\u001b[0;34m\u001b[0m\u001b[0m\n\u001b[1;32m     13\u001b[0m \u001b[0;32mfrom\u001b[0m \u001b[0mroot_numpy\u001b[0m \u001b[0;32mimport\u001b[0m \u001b[0mlist_branches\u001b[0m\u001b[0;34m\u001b[0m\u001b[0;34m\u001b[0m\u001b[0m\n",
      "\u001b[0;32m~/miniconda/envs/py36/lib/python3.6/site-packages/root_numpy/__init__.py\u001b[0m in \u001b[0;36m<module>\u001b[0;34m\u001b[0m\n\u001b[1;32m     19\u001b[0m \u001b[0;32mfrom\u001b[0m \u001b[0;34m.\u001b[0m\u001b[0msetup_utils\u001b[0m \u001b[0;32mimport\u001b[0m \u001b[0mroot_version_active\u001b[0m\u001b[0;34m,\u001b[0m \u001b[0mget_config\u001b[0m\u001b[0;34m\u001b[0m\u001b[0;34m\u001b[0m\u001b[0m\n\u001b[1;32m     20\u001b[0m \u001b[0;34m\u001b[0m\u001b[0m\n\u001b[0;32m---> 21\u001b[0;31m \u001b[0mROOT_VERSION\u001b[0m \u001b[0;34m=\u001b[0m \u001b[0mroot_version_active\u001b[0m\u001b[0;34m(\u001b[0m\u001b[0;34m)\u001b[0m\u001b[0;34m\u001b[0m\u001b[0;34m\u001b[0m\u001b[0m\n\u001b[0m\u001b[1;32m     22\u001b[0m \u001b[0mconfig\u001b[0m \u001b[0;34m=\u001b[0m \u001b[0mget_config\u001b[0m\u001b[0;34m(\u001b[0m\u001b[0;34m)\u001b[0m\u001b[0;34m\u001b[0m\u001b[0;34m\u001b[0m\u001b[0m\n\u001b[1;32m     23\u001b[0m \u001b[0;34m\u001b[0m\u001b[0m\n",
      "\u001b[0;32m~/miniconda/envs/py36/lib/python3.6/site-packages/root_numpy/setup_utils.py\u001b[0m in \u001b[0;36mroot_version_active\u001b[0;34m()\u001b[0m\n\u001b[1;32m    109\u001b[0m \u001b[0;34m\u001b[0m\u001b[0m\n\u001b[1;32m    110\u001b[0m \u001b[0;32mdef\u001b[0m \u001b[0mroot_version_active\u001b[0m\u001b[0;34m(\u001b[0m\u001b[0;34m)\u001b[0m\u001b[0;34m:\u001b[0m\u001b[0;34m\u001b[0m\u001b[0;34m\u001b[0m\u001b[0m\n\u001b[0;32m--> 111\u001b[0;31m     \u001b[0;32mimport\u001b[0m \u001b[0mROOT\u001b[0m\u001b[0;34m\u001b[0m\u001b[0;34m\u001b[0m\u001b[0m\n\u001b[0m\u001b[1;32m    112\u001b[0m     \u001b[0;32mreturn\u001b[0m \u001b[0mROOTVersion\u001b[0m\u001b[0;34m(\u001b[0m\u001b[0mROOT\u001b[0m\u001b[0;34m.\u001b[0m\u001b[0mgROOT\u001b[0m\u001b[0;34m.\u001b[0m\u001b[0mGetVersionInt\u001b[0m\u001b[0;34m(\u001b[0m\u001b[0;34m)\u001b[0m\u001b[0;34m)\u001b[0m\u001b[0;34m\u001b[0m\u001b[0;34m\u001b[0m\u001b[0m\n\u001b[1;32m    113\u001b[0m \u001b[0;34m\u001b[0m\u001b[0m\n",
      "\u001b[0;31mModuleNotFoundError\u001b[0m: No module named 'ROOT'"
     ]
    }
   ],
   "source": [
    "from root_pandas import read_root\n",
    "from glob import glob\n",
    "import pandas as pd\n",
    "from matplotlib.pyplot import *\n",
    "%matplotlib inline\n",
    "from numpy import *\n",
    "from matplotlib.colors import LogNorm\n",
    "from matplotlib.patches import *\n",
    "import matplotlib.pyplot as plt\n",
    "from scipy.optimize import leastsq\n",
    "# import b2plot\n",
    "#style.use('belle2')"
   ]
  },
  {
   "cell_type": "code",
   "execution_count": 3,
   "metadata": {
    "scrolled": true
   },
   "outputs": [],
   "source": [
    "#df = read_root(\"cosmic.0008.03427.root\")\n",
    "\n",
    "#df = read_root(\"b.root\")\n",
    "df  = read_root(\"cosmic.0008.03420_03427_v4.root\",columns=[\"Channel\", \"ADC\", \"Board\", \"Nhit\", \"Asic\"])\n",
    "#dfm = read_root(\"mcmc.root\",columns=[\"Channel\", \"ADC\", \"Board\", \"Nhit\", \"Asic\"]) # no cross talk\n"
   ]
  },
  {
   "cell_type": "code",
   "execution_count": 4,
   "metadata": {},
   "outputs": [],
   "source": [
    "dfm = read_root(\"mcmc.root\",columns=[\"Channel\", \"ADC\", \"Board\", \"Nhit\", \"Asic\",\"Track\"]) # no cross talk\n",
    "dfm2 = read_root(\"mcmc_xtalk.root\",columns=[\"Channel\", \"ADC\", \"Board\", \"Nhit\", \"Asic\",\"Track\"])\n",
    "#dfm2 = read_root(\"mctt.root\",columns=[\"Channel\", \"ADC\", \"Board\", \"Nhit\", \"Asic\",\"Track\"])\n",
    "#mc3.root"
   ]
  },
  {
   "cell_type": "code",
   "execution_count": 5,
   "metadata": {
    "scrolled": true
   },
   "outputs": [
    {
     "data": {
      "image/png": "[encoded data removed]",
      "text/plain": [
       "<Figure size 432x288 with 1 Axes>"
      ]
     },
     "metadata": {
      "needs_background": "light"
     },
     "output_type": "display_data"
    }
   ],
   "source": [
    "xlim(1,8)\n",
    "h = hist(df[df.ADC_ADC_Sig>1000].Nhit,8,(0,8),density=True,label='Data')\n",
    "h = hist(dfm[dfm.ADC_ADC_Sig>1000].Nhit,8,(0,8),density=True,label='MC XTalk Off',histtype='step')\n",
    "h = hist(dfm2[dfm2.ADC_ADC_Sig>1000].Nhit,8,(0,8),density=True,histtype='step',label='MC XTalk ON')\n",
    "xlabel('Nhit per ASIC for ADC>1000')\n",
    "legend()\n",
    "savefig(\"xtalk_test.png\")"
   ]
  }
 ],
 "metadata": {
  "kernelspec": {
   "display_name": "Python 3",
   "language": "python",
   "name": "python3"
  },
  "language_info": {
   "codemirror_mode": {
    "name": "ipython",
    "version": 3
   },
   "file_extension": ".py",
   "mimetype": "text/x-python",
   "name": "python",
   "nbconvert_exporter": "python",
   "pygments_lexer": "ipython3",
   "version": "3.6.9"
  }
 },
 "nbformat": 4,
 "nbformat_minor": 2
}
